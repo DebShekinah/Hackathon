{
  "nbformat": 4,
  "nbformat_minor": 0,
  "metadata": {
    "colab": {
      "name": "imdb.ipynb",
      "provenance": [],
      "collapsed_sections": []
    },
    "kernelspec": {
      "name": "python3",
      "display_name": "Python 3"
    }
  },
  "cells": [
    {
      "cell_type": "code",
      "metadata": {
        "id": "YkatL0kYxifJ",
        "colab_type": "code",
        "colab": {}
      },
      "source": [
        "\n",
        "%reload_ext autoreload\n",
        "%autoreload 2\n",
        "%matplotlib inline\n",
        "\n",
        "from fastai.learner import *\n",
        "\n",
        "import torchtext\n",
        "from torchtext import vocab, data\n",
        "from torchtext.datasets import language_modeling\n",
        "\n",
        "from fastai.rnn_reg import *\n",
        "from fastai.rnn_train import *\n",
        "from fastai.nlp import *\n",
        "from fastai.lm_rnn import *\n",
        "\n",
        "import dill as pickle\n",
        "import spacy"
      ],
      "execution_count": 0,
      "outputs": []
    },
    {
      "cell_type": "markdown",
      "metadata": {
        "id": "u5nBA_sQyiiK",
        "colab_type": "text"
      },
      "source": [
        "This is a program to do sentiment analysis of IMDB dataset using fastai librrary with Pytorch as the backend. The data can downloaded from here http://files.fast.ai/data/aclImdb.tgz "
      ]
    },
    {
      "cell_type": "code",
      "metadata": {
        "id": "DIgmBDc2y2ie",
        "colab_type": "code",
        "colab": {}
      },
      "source": [
        "PATH='data/aclImdb/'\n",
        "\n",
        "TRN_PATH = 'train/all/'\n",
        "VAL_PATH = 'test/all\n",
        "TRN = f'{PATH}{TRN_PATH}'\n",
        "VAL = f'{PATH}{VAL_PATH}'\n",
        "\n",
        "%ls {PATH}"
      ],
      "execution_count": 0,
      "outputs": []
    },
    {
      "cell_type": "code",
      "metadata": {
        "id": "wX95yXNK0OCg",
        "colab_type": "code",
        "colab": {}
      },
      "source": [
        "review = !cat {TRN}{trn_files[6]}\n",
        "review[0]   "
      ],
      "execution_count": 0,
      "outputs": []
    },
    {
      "cell_type": "code",
      "metadata": {
        "id": "nkQtqgac0OHR",
        "colab_type": "code",
        "colab": {}
      },
      "source": [
        "!find {TRN} -name '*.txt' | xargs cat | wc -w"
      ],
      "execution_count": 0,
      "outputs": []
    },
    {
      "cell_type": "markdown",
      "metadata": {
        "id": "xRP6FGwm16aJ",
        "colab_type": "text"
      },
      "source": [
        "This will tell how many words are for training"
      ]
    },
    {
      "cell_type": "code",
      "metadata": {
        "id": "B_vSNC0c0OS4",
        "colab_type": "code",
        "colab": {}
      },
      "source": [
        "!find {VAL} -name '*.txt' | xargs cat | wc -w"
      ],
      "execution_count": 0,
      "outputs": []
    },
    {
      "cell_type": "markdown",
      "metadata": {
        "id": "6TDfcGXW2ZsQ",
        "colab_type": "text"
      },
      "source": [
        "for analysis, we would require spacy tokenizer  to tokenize it from array of words to array of token"
      ]
    },
    {
      "cell_type": "code",
      "metadata": {
        "id": "MkzGEBBK0OY6",
        "colab_type": "code",
        "colab": {}
      },
      "source": [
        "spacy_imdb = spacy.load('en')\n",
        "imdb_review=[sent.string.strip() for sent in spacy_imdb(review[0])]"
      ],
      "execution_count": 0,
      "outputs": []
    },
    {
      "cell_type": "code",
      "metadata": {
        "id": "2_NuTtxr0Oj8",
        "colab_type": "code",
        "colab": {}
      },
      "source": [
        "' '.join(imdb_review)"
      ],
      "execution_count": 0,
      "outputs": []
    },
    {
      "cell_type": "code",
      "metadata": {
        "id": "QeYUPhIr0OvE",
        "colab_type": "code",
        "colab": {}
      },
      "source": [
        "TEXT = data.Field(lower=True, tokenize=\"spacy\")"
      ],
      "execution_count": 0,
      "outputs": []
    },
    {
      "cell_type": "markdown",
      "metadata": {
        "id": "s0zI-8xc4EIN",
        "colab_type": "text"
      },
      "source": [
        "Using Pytorch's torchtext to preprocess the data and telling it to use spacy as the tokenizer "
      ]
    },
    {
      "cell_type": "code",
      "metadata": {
        "id": "NkdpyrL40OzN",
        "colab_type": "code",
        "colab": {}
      },
      "source": [
        "bs=64\n",
        "bptt=70"
      ],
      "execution_count": 0,
      "outputs": []
    },
    {
      "cell_type": "markdown",
      "metadata": {
        "id": "6WrcSqAF4jSp",
        "colab_type": "text"
      },
      "source": [
        "bs: Batch size \n",
        "bptt: No of words are processing at a time in each row of the mini-batch"
      ]
    },
    {
      "cell_type": "code",
      "metadata": {
        "id": "9KDCDGQ20OtP",
        "colab_type": "code",
        "colab": {}
      },
      "source": [
        "FILES = dict(train=TRN_PATH, validation=VAL_PATH, test=VAL_PATH)\n",
        "md = LanguageModelData.from_text_files(PATH, TEXT, **FILES, bs=bs, bptt=bptt, min_freq=10)"
      ],
      "execution_count": 0,
      "outputs": []
    },
    {
      "cell_type": "code",
      "metadata": {
        "id": "hXLsorL00Opm",
        "colab_type": "code",
        "colab": {}
      },
      "source": [
        "pickle.dump(TEXT, open(f'{PATH}models/TEXT.pkl','wb'))"
      ],
      "execution_count": 0,
      "outputs": []
    },
    {
      "cell_type": "code",
      "metadata": {
        "id": "HjJY2jTJ0Ony",
        "colab_type": "code",
        "colab": {}
      },
      "source": [
        "next(iter(md.trn_dl))"
      ],
      "execution_count": 0,
      "outputs": []
    },
    {
      "cell_type": "markdown",
      "metadata": {
        "id": "R8QrSDWK7WWO",
        "colab_type": "text"
      },
      "source": [
        "**Train**"
      ]
    },
    {
      "cell_type": "code",
      "metadata": {
        "id": "3MEXWLzN0OiW",
        "colab_type": "code",
        "colab": {}
      },
      "source": [
        "em_sz = 200  # size of each embedding vector\n",
        "nh = 500     # number of hidden activations per layer\n",
        "nl = 3       # number of layers"
      ],
      "execution_count": 0,
      "outputs": []
    },
    {
      "cell_type": "code",
      "metadata": {
        "id": "RF8Vd8g-0Og2",
        "colab_type": "code",
        "colab": {}
      },
      "source": [
        "opt_fn = partial(optim.Adam, betas=(0.7, 0.99))"
      ],
      "execution_count": 0,
      "outputs": []
    },
    {
      "cell_type": "markdown",
      "metadata": {
        "id": "b1miJ0146xT-",
        "colab_type": "text"
      },
      "source": [
        "Using fastai's built-in model for LSTM language Model"
      ]
    },
    {
      "cell_type": "code",
      "metadata": {
        "id": "DBgSt6uF0OfF",
        "colab_type": "code",
        "colab": {}
      },
      "source": [
        "learner = md.get_model(opt_fn, em_sz, nh, nl,\n",
        "               dropouti=0.05, dropout=0.05, wdrop=0.1, dropoute=0.02, dropouth=0.05)\n",
        "learner.reg_fn = partial(seq2seq_reg, alpha=2, beta=1)\n",
        "learner.clip=0.3"
      ],
      "execution_count": 0,
      "outputs": []
    },
    {
      "cell_type": "code",
      "metadata": {
        "id": "ISWiJQTD0OXc",
        "colab_type": "code",
        "colab": {}
      },
      "source": [
        "learner.fit(3e-3, 4, wds=1e-6, cycle_len=1, cycle_mult=2)"
      ],
      "execution_count": 0,
      "outputs": []
    },
    {
      "cell_type": "code",
      "metadata": {
        "id": "f87bSsPf0ORl",
        "colab_type": "code",
        "colab": {}
      },
      "source": [
        "learner.save_encoder('adam1_enc')"
      ],
      "execution_count": 0,
      "outputs": []
    },
    {
      "cell_type": "code",
      "metadata": {
        "id": "vtP9NHJn0OAC",
        "colab_type": "code",
        "colab": {}
      },
      "source": [
        "learner.load_encoder('adam3_10_enc')"
      ],
      "execution_count": 0,
      "outputs": []
    },
    {
      "cell_type": "code",
      "metadata": {
        "id": "oN00l4Gv7a2j",
        "colab_type": "code",
        "colab": {}
      },
      "source": [
        "pickle.dump(TEXT, open(f'{PATH}models/TEXT.pkl','wb'))"
      ],
      "execution_count": 0,
      "outputs": []
    },
    {
      "cell_type": "markdown",
      "metadata": {
        "id": "P0bYUO4j7fJo",
        "colab_type": "text"
      },
      "source": [
        "**Test**"
      ]
    },
    {
      "cell_type": "code",
      "metadata": {
        "id": "b3cwoVnJ7asZ",
        "colab_type": "code",
        "colab": {}
      },
      "source": [
        "m=learner.model\n",
        "ss=\"\"\".  The best thrilling movie\"\"\"\n",
        "s = [TEXT.preprocess(ss)]\n",
        "t=TEXT.numericalize(s)\n",
        "' '.join(s[0])"
      ],
      "execution_count": 0,
      "outputs": []
    },
    {
      "cell_type": "code",
      "metadata": {
        "id": "asiOKFN18UvL",
        "colab_type": "code",
        "colab": {}
      },
      "source": [
        "# Set batch size to 1\n",
        "m[0].bs=1\n",
        "# Turn off dropout\n",
        "m.eval()\n",
        "# Reset hidden state\n",
        "m.reset()\n",
        "# Get predictions from model\n",
        "res,*_ = m(t)\n",
        "# Put the batch size back to what it was\n",
        "m[0].bs=bs"
      ],
      "execution_count": 0,
      "outputs": []
    },
    {
      "cell_type": "code",
      "metadata": {
        "id": "W2F_lugo8Uru",
        "colab_type": "code",
        "colab": {}
      },
      "source": [
        "nexts = torch.topk(res[-1], 10)[1]\n",
        "[TEXT.vocab.itos[o] for o in to_np(nexts)]"
      ],
      "execution_count": 0,
      "outputs": []
    },
    {
      "cell_type": "code",
      "metadata": {
        "id": "1bmV32958UlA",
        "colab_type": "code",
        "colab": {}
      },
      "source": [
        "print(ss,\"\\n\")\n",
        "for i in range(50):\n",
        "    n=res[-1].topk(2)[1]\n",
        "    n = n[1] if n.data[0]==0 else n[0]\n",
        "    print(TEXT.vocab.itos[n.data[0]], end=' ')\n",
        "    res,*_ = m(n[0].unsqueeze(0))\n",
        "print('...')"
      ],
      "execution_count": 0,
      "outputs": []
    },
    {
      "cell_type": "markdown",
      "metadata": {
        "id": "G-CNOF6J-HTm",
        "colab_type": "text"
      },
      "source": [
        "**Sentiment**"
      ]
    },
    {
      "cell_type": "code",
      "metadata": {
        "id": "pm0wn7UP8oMg",
        "colab_type": "code",
        "colab": {}
      },
      "source": [
        "TEXT = pickle.load(open(f'{PATH}models/TEXT.pkl','rb'))"
      ],
      "execution_count": 0,
      "outputs": []
    },
    {
      "cell_type": "code",
      "metadata": {
        "id": "5r6N8XzS8oGz",
        "colab_type": "code",
        "colab": {}
      },
      "source": [
        "IMDB_LABEL = data.Field(sequential=False)\n",
        "splits = torchtext.datasets.IMDB.splits(TEXT, IMDB_LABEL, 'data/')"
      ],
      "execution_count": 0,
      "outputs": []
    },
    {
      "cell_type": "code",
      "metadata": {
        "id": "JSlOqTCj8n_c",
        "colab_type": "code",
        "colab": {}
      },
      "source": [
        "t = splits[0].examples[0]"
      ],
      "execution_count": 0,
      "outputs": []
    },
    {
      "cell_type": "code",
      "metadata": {
        "id": "iF5mFECd8nzN",
        "colab_type": "code",
        "colab": {}
      },
      "source": [
        "t.label, ' '.join(t.text[:16])"
      ],
      "execution_count": 0,
      "outputs": []
    },
    {
      "cell_type": "code",
      "metadata": {
        "id": "a3VA59iB-g5w",
        "colab_type": "code",
        "colab": {}
      },
      "source": [
        "md2 = TextData.from_splits(PATH, splits, bs)"
      ],
      "execution_count": 0,
      "outputs": []
    },
    {
      "cell_type": "code",
      "metadata": {
        "id": "TC1WjqvL-hhz",
        "colab_type": "code",
        "colab": {}
      },
      "source": [
        "m3 = md2.get_model(opt_fn, 1500, bptt, emb_sz=em_sz, n_hid=nh, n_layers=nl, \n",
        "           dropout=0.1, dropouti=0.4, wdrop=0.5, dropoute=0.05, dropouth=0.3)\n",
        "m3.reg_fn = partial(seq2seq_reg, alpha=2, beta=1)\n",
        "m3.load_encoder(f'adam3_10_enc')"
      ],
      "execution_count": 0,
      "outputs": []
    },
    {
      "cell_type": "code",
      "metadata": {
        "id": "PkikcuBW-hUe",
        "colab_type": "code",
        "colab": {}
      },
      "source": [
        "m3.clip=25.\n",
        "lrs=np.array([1e-4,1e-4,1e-4,1e-3,1e-2])"
      ],
      "execution_count": 0,
      "outputs": []
    },
    {
      "cell_type": "code",
      "metadata": {
        "id": "tzpDGaFh-tRj",
        "colab_type": "code",
        "colab": {}
      },
      "source": [
        "m3.freeze_to(-1)\n",
        "m3.fit(lrs/2, 1, metrics=[accuracy])\n",
        "m3.unfreeze()\n",
        "m3.fit(lrs, 1, metrics=[accuracy], cycle_len=1)"
      ],
      "execution_count": 0,
      "outputs": []
    },
    {
      "cell_type": "code",
      "metadata": {
        "id": "V5V65ur0-tm0",
        "colab_type": "code",
        "colab": {}
      },
      "source": [
        "m3.fit(lrs, 7, metrics=[accuracy], cycle_len=2, cycle_save_name='imdb2')"
      ],
      "execution_count": 0,
      "outputs": []
    },
    {
      "cell_type": "code",
      "metadata": {
        "id": "7Z6lwwDq-t70",
        "colab_type": "code",
        "colab": {}
      },
      "source": [
        "m3.fit(lrs, 7, metrics=[accuracy], cycle_len=2, cycle_save_name='imdb2')"
      ],
      "execution_count": 0,
      "outputs": []
    },
    {
      "cell_type": "code",
      "metadata": {
        "id": "Xpj-FpoJ-tf6",
        "colab_type": "code",
        "colab": {}
      },
      "source": [
        "accuracy_np(*m3.predict_with_targs())"
      ],
      "execution_count": 0,
      "outputs": []
    },
    {
      "cell_type": "code",
      "metadata": {
        "id": "UHs7UO1Z-hIP",
        "colab_type": "code",
        "colab": {}
      },
      "source": [
        ""
      ],
      "execution_count": 0,
      "outputs": []
    }
  ]
}